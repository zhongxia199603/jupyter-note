{
 "cells": [
  {
   "cell_type": "code",
   "execution_count": 1,
   "metadata": {},
   "outputs": [],
   "source": [
    "import os\n",
    "import pandas as pd"
   ]
  },
  {
   "cell_type": "code",
   "execution_count": 55,
   "metadata": {},
   "outputs": [],
   "source": [
    "#path = \"/home/jinhanqi/tf_program/summarization_log/baseline_seq2seq\""
   ]
  },
  {
   "cell_type": "code",
   "execution_count": 394,
   "metadata": {},
   "outputs": [],
   "source": [
    "path = \"/home/jinhanqi/tf_program/summarization_log/gigaword_seq2seq\""
   ]
  },
  {
   "cell_type": "code",
   "execution_count": 825,
   "metadata": {},
   "outputs": [],
   "source": [
    "#path = \"/home/jinhanqi/tf_program/summarization_log/gigaword_seq2seq_hidddendim400_embdim200_maxdecstep20\""
   ]
  },
  {
   "cell_type": "code",
   "execution_count": 430,
   "metadata": {},
   "outputs": [],
   "source": [
    "path = \"/home/jinhanqi/tf_program/summarization_log/gigaword_seq2seq_SplitKeyword\""
   ]
  },
  {
   "cell_type": "code",
   "execution_count": 424,
   "metadata": {},
   "outputs": [],
   "source": [
    "path = \"/home/jinhanqi/tf_program/summarization_log/gigaword_seq2seq_SplitKeyword_MLPgateTrue\""
   ]
  },
  {
   "cell_type": "code",
   "execution_count": 425,
   "metadata": {},
   "outputs": [],
   "source": [
    "#path = \"/home/jinhanqi/tf_program/summarization_log/gigaword_seq2seq_SplitKeyword_wordsratio0.8\""
   ]
  },
  {
   "cell_type": "code",
   "execution_count": 409,
   "metadata": {},
   "outputs": [],
   "source": [
    "path = \"/home/jinhanqi/tf_program/summarization_log/gigaword_seq2seq_SplitKeyword_opAdam_lr0.001_MLPgateTrue_inpTrue_maxdecsteps20\""
   ]
  },
  {
   "cell_type": "code",
   "execution_count": 426,
   "metadata": {},
   "outputs": [],
   "source": [
    "#path = \"/home/jinhanqi/tf_program/summarization_log/gigaword_seq2seq_SplitKeyword_opAdam_lr0.00005_MLPgateTrue_inpTrue_maxdecsteps20\""
   ]
  },
  {
   "cell_type": "code",
   "execution_count": 427,
   "metadata": {},
   "outputs": [],
   "source": [
    "#path = \"/home/jinhanqi/tf_program/summarization_log/gigaword_seq2seq_SplitKeyword_opAdam_lr0.00001_MLPgateTrue_inpTrue_maxdecsteps20\""
   ]
  },
  {
   "cell_type": "code",
   "execution_count": 2,
   "metadata": {},
   "outputs": [],
   "source": [
    "path = '/home/jinhanqi/tf_program/summarization_log/review_seq2seq_lr0.15_'"
   ]
  },
  {
   "cell_type": "code",
   "execution_count": 3,
   "metadata": {},
   "outputs": [
    {
     "data": {
      "text/plain": [
       "['decode_maxenc_250beam_5mindec_1maxdec_15ckpt-311',\n",
       " 'decode_maxenc_250beam_5mindec_1maxdec_15ckpt-9249',\n",
       " 'decode_maxenc_250beam_5mindec_1maxdec_15ckpt-17262',\n",
       " 'decode_maxenc_250beam_5mindec_1maxdec_15ckpt-25405',\n",
       " 'decode_maxenc_250beam_5mindec_1maxdec_15ckpt-32491',\n",
       " 'decode_maxenc_250beam_5mindec_1maxdec_15ckpt-39542',\n",
       " 'decode_maxenc_250beam_5mindec_1maxdec_15ckpt-46733',\n",
       " 'decode_maxenc_250beam_5mindec_1maxdec_15ckpt-54303',\n",
       " 'decode_maxenc_250beam_5mindec_1maxdec_15ckpt-62094',\n",
       " 'decode_maxenc_250beam_5mindec_1maxdec_15ckpt-71323',\n",
       " 'decode_maxenc_250beam_5mindec_1maxdec_15ckpt-79332',\n",
       " 'decode_maxenc_250beam_5mindec_1maxdec_15ckpt-87127',\n",
       " 'decode_maxenc_250beam_5mindec_1maxdec_15ckpt-94424']"
      ]
     },
     "execution_count": 3,
     "metadata": {},
     "output_type": "execute_result"
    }
   ],
   "source": [
    "list_path = os.listdir(path)\n",
    "\n",
    "decode_path = [p for p in list_path if p.find('decode_')>=0]\n",
    "\n",
    "def sort_func(a, b):\n",
    "    if len(a) == len(b):\n",
    "        return a < b\n",
    "    return len(a) < len(b)\n",
    "\n",
    "decode_path = sorted(decode_path, lambda x,y: -sort_func(x, y))\n",
    "decode_path"
   ]
  },
  {
   "cell_type": "code",
   "execution_count": 4,
   "metadata": {},
   "outputs": [
    {
     "name": "stdout",
     "output_type": "stream",
     "text": [
      "review_seq2seq_lr0.15_/decode_maxenc_250beam_5mindec_1maxdec_15ckpt\n",
      "\n",
      "311:  rouge_1: 0.0421   rouge_2: 0.0010   rouge_l: 0.0421\n",
      "9249:  rouge_1: 0.0871   rouge_2: 0.0243   rouge_l: 0.0867\n",
      "17262:  rouge_1: 0.1060   rouge_2: 0.0244   rouge_l: 0.1054\n",
      "25405:  rouge_1: 0.1140   rouge_2: 0.0307   rouge_l: 0.1130\n",
      "32491:  rouge_1: 0.1237   rouge_2: 0.0307   rouge_l: 0.1229\n",
      "39542:  rouge_1: 0.1226   rouge_2: 0.0367   rouge_l: 0.1214\n",
      "46733:  rouge_1: 0.1279   rouge_2: 0.0301   rouge_l: 0.1267\n",
      "54303:  rouge_1: 0.1334   rouge_2: 0.0344   rouge_l: 0.1320\n",
      "62094:  rouge_1: 0.1240   rouge_2: 0.0346   rouge_l: 0.1228\n",
      "71323:  rouge_1: 0.1269   rouge_2: 0.0357   rouge_l: 0.1258\n",
      "79332:  rouge_1: 0.1250   rouge_2: 0.0347   rouge_l: 0.1242\n",
      "87127:  rouge_1: 0.1212   rouge_2: 0.0336   rouge_l: 0.1201\n",
      "\n",
      "rouge_most-54303:  rouge_1: 0.1334   rouge_2: 0.0344   rouge_l: 0.1320\n",
      "\n"
     ]
    }
   ],
   "source": [
    "with open(path+'/rouge', 'wb+') as f:\n",
    "    f.write(os.path.basename(path)+\"/\"+decode_path[0].split('-')[0]+\"\\n\"+\"\\n\")\n",
    "rouge_most = \"r\"\n",
    "rouge1 = []\n",
    "rouge2 = []\n",
    "rougel = []\n",
    "x = []\n",
    "for p in decode_path:\n",
    "    filename = path+\"/\"+p+\"/ROUGE_results.txt\"\n",
    "    #print filename\n",
    "    if os.path.exists(filename)==False:\n",
    "        continue\n",
    "    with open(filename, 'r') as f:\n",
    "        con = f.readlines()\n",
    "        rouge_1 = con[2][17:23]\n",
    "        rouge_2 = con[7][17:23]\n",
    "        rouge_l = con[12][17:23]\n",
    "    rouge1.append(float(rouge_1))\n",
    "    rouge2.append(float(rouge_2))\n",
    "    rougel.append(float(rouge_l))\n",
    "    rouge = 'rouge_1: '+rouge_1+'   '+'rouge_2: '+rouge_2+'   '+'rouge_l: '+rouge_l\n",
    "    if rouge > rouge_most:\n",
    "        rouge_most = rouge\n",
    "        path_most = p\n",
    "    with open(path+'/rouge', 'a+') as f:\n",
    "        #print p+con+'\\n'+'\\n'\n",
    "        _p = path+\"/\"+p\n",
    "        f.write(p.split('-')[-1]+\":  \"+rouge+'\\n')\n",
    "    x.append(int(p.split('-')[-1]))\n",
    "with open(path+'/rouge', 'a+') as f:\n",
    "    f.write('\\nrouge_most-' + path_most.split('-')[-1]+\":  \"+rouge_most+'\\n')\n",
    "\n",
    "with open(path+\"/rouge\", \"r\") as f:\n",
    "    print f.read()"
   ]
  },
  {
   "cell_type": "markdown",
   "metadata": {},
   "source": [
    "计算rouge的分布情况"
   ]
  },
  {
   "cell_type": "code",
   "execution_count": 5,
   "metadata": {},
   "outputs": [
    {
     "data": {
      "text/plain": [
       "12"
      ]
     },
     "execution_count": 5,
     "metadata": {},
     "output_type": "execute_result"
    }
   ],
   "source": [
    "len(rouge1)"
   ]
  },
  {
   "cell_type": "code",
   "execution_count": 69,
   "metadata": {},
   "outputs": [],
   "source": [
    "pd_rouge1 = pd.DataFrame(rouge1, columns=[\"rouge1\"])"
   ]
  },
  {
   "cell_type": "code",
   "execution_count": 70,
   "metadata": {},
   "outputs": [
    {
     "data": {
      "text/html": [
       "<div>\n",
       "<style scoped>\n",
       "    .dataframe tbody tr th:only-of-type {\n",
       "        vertical-align: middle;\n",
       "    }\n",
       "\n",
       "    .dataframe tbody tr th {\n",
       "        vertical-align: top;\n",
       "    }\n",
       "\n",
       "    .dataframe thead th {\n",
       "        text-align: right;\n",
       "    }\n",
       "</style>\n",
       "<table border=\"1\" class=\"dataframe\">\n",
       "  <thead>\n",
       "    <tr style=\"text-align: right;\">\n",
       "      <th></th>\n",
       "      <th>rouge1</th>\n",
       "    </tr>\n",
       "  </thead>\n",
       "  <tbody>\n",
       "    <tr>\n",
       "      <th>count</th>\n",
       "      <td>6.000000</td>\n",
       "    </tr>\n",
       "    <tr>\n",
       "      <th>mean</th>\n",
       "      <td>0.099250</td>\n",
       "    </tr>\n",
       "    <tr>\n",
       "      <th>std</th>\n",
       "      <td>0.031048</td>\n",
       "    </tr>\n",
       "    <tr>\n",
       "      <th>min</th>\n",
       "      <td>0.042100</td>\n",
       "    </tr>\n",
       "    <tr>\n",
       "      <th>25%</th>\n",
       "      <td>0.091825</td>\n",
       "    </tr>\n",
       "    <tr>\n",
       "      <th>50%</th>\n",
       "      <td>0.110000</td>\n",
       "    </tr>\n",
       "    <tr>\n",
       "      <th>75%</th>\n",
       "      <td>0.120450</td>\n",
       "    </tr>\n",
       "    <tr>\n",
       "      <th>max</th>\n",
       "      <td>0.123700</td>\n",
       "    </tr>\n",
       "  </tbody>\n",
       "</table>\n",
       "</div>"
      ],
      "text/plain": [
       "         rouge1\n",
       "count  6.000000\n",
       "mean   0.099250\n",
       "std    0.031048\n",
       "min    0.042100\n",
       "25%    0.091825\n",
       "50%    0.110000\n",
       "75%    0.120450\n",
       "max    0.123700"
      ]
     },
     "execution_count": 70,
     "metadata": {},
     "output_type": "execute_result"
    }
   ],
   "source": [
    "pd_rouge1.describe()"
   ]
  },
  {
   "cell_type": "markdown",
   "metadata": {},
   "source": [
    "画图展示"
   ]
  },
  {
   "cell_type": "code",
   "execution_count": 71,
   "metadata": {},
   "outputs": [
    {
     "data": {
      "image/png": "[encoded data removed]",
      "text/plain": [
       "<Figure size 432x288 with 1 Axes>"
      ]
     },
     "metadata": {},
     "output_type": "display_data"
    }
   ],
   "source": [
    "%matplotlib inline\n",
    "import matplotlib.pyplot as plt\n",
    "\n",
    "l1=plt.plot(x,rouge1,'r--',label='rouge1')\n",
    "l2=plt.plot(x,rouge2,'g--',label='rouge2')\n",
    "l3=plt.plot(x,rougel,'b--',label='rougel')\n",
    "#plt.plot(x,rouge1,'ro-',x,rouge2,'g+-',x,rougel,'b^-')\n",
    "plt.title('The result of rougeF')\n",
    "plt.xlabel('ckpt')\n",
    "plt.ylabel('rougeF')\n",
    "plt.legend()\n",
    "plt.show()"
   ]
  },
  {
   "cell_type": "markdown",
   "metadata": {
    "collapsed": true
   },
   "source": [
    "## 删除某个目录下的decode和reference结果，只保留rouge值最高的两个目录的decode"
   ]
  },
  {
   "cell_type": "code",
   "execution_count": 72,
   "metadata": {},
   "outputs": [],
   "source": [
    "#path = \"/home/jinhanqi/tf_program/summarization_log/baseline_seq2seq\""
   ]
  },
  {
   "cell_type": "code",
   "execution_count": 73,
   "metadata": {},
   "outputs": [],
   "source": [
    "#path = \"/home/jinhanqi/tf_program/summarization_log/gigaword_seq2seq\""
   ]
  },
  {
   "cell_type": "code",
   "execution_count": 74,
   "metadata": {},
   "outputs": [],
   "source": [
    "#path = \"/home/jinhanqi/tf_program/summarization_log/gigaword_seq2seq_hidddendim400_embdim200_maxdecstep20\""
   ]
  },
  {
   "cell_type": "code",
   "execution_count": 75,
   "metadata": {},
   "outputs": [],
   "source": [
    "def sortByRouge(root, x, y):\n",
    "    with open(root+\"/\"+x+\"/ROUGE_results.txt\", 'r') as f:\n",
    "        rouge_x = f.readlines()\n",
    "        rouge_x = rouge_x[2][17:23]\n",
    "    with open(root+\"/\"+y+\"/ROUGE_results.txt\", 'r') as f:\n",
    "        rouge_y = f.readlines()\n",
    "        rouge_y = rouge_y[2][17:23]\n",
    "    return rouge_x < rouge_y"
   ]
  },
  {
   "cell_type": "code",
   "execution_count": 76,
   "metadata": {},
   "outputs": [],
   "source": [
    "list_path = os.listdir(path)\n",
    "\n",
    "decode_path = [p for p in list_path if p.find('decode_')>=0]\n",
    "\n",
    "root = path\n",
    "_delete_path = [p for p in decode_path if os.path.isfile(root+\"/\"+p+\"/\"+\"ROUGE_results.txt\") == True]\n",
    "_delete_path\n",
    "\n",
    "delete_path = sorted(_delete_path, lambda x,y: -sortByRouge(root, x, y))\n",
    "\n",
    "#delete_path"
   ]
  },
  {
   "cell_type": "code",
   "execution_count": 77,
   "metadata": {},
   "outputs": [],
   "source": [
    "#delete_path[0:-2]"
   ]
  },
  {
   "cell_type": "code",
   "execution_count": 78,
   "metadata": {},
   "outputs": [],
   "source": [
    "import shutil\n",
    "\n",
    "for p in delete_path[0:-2]:\n",
    "    if os.path.exists(root+\"/\"+p+\"/\"+\"decoded\"):\n",
    "        shutil.rmtree(root+\"/\"+p+\"/\"+\"decoded\")\n",
    "    if os.path.exists(root+\"/\"+p+\"/\"+\"reference\"):\n",
    "        shutil.rmtree(root+\"/\"+p+\"/\"+\"reference\")\n",
    "\n",
    "for p in delete_path[0:-1]:\n",
    "    if os.path.exists(root+\"/\"+p+\"/\"+\"reference\"):\n",
    "        shutil.rmtree(root+\"/\"+p+\"/\"+\"reference\")"
   ]
  },
  {
   "cell_type": "code",
   "execution_count": null,
   "metadata": {},
   "outputs": [],
   "source": []
  },
  {
   "cell_type": "code",
   "execution_count": 79,
   "metadata": {},
   "outputs": [
    {
     "data": {
      "text/plain": [
       "['ROUGE_results.txt']"
      ]
     },
     "execution_count": 79,
     "metadata": {},
     "output_type": "execute_result"
    }
   ],
   "source": [
    "os.listdir(root+\"/\"+delete_path[-3])"
   ]
  },
  {
   "cell_type": "code",
   "execution_count": null,
   "metadata": {},
   "outputs": [],
   "source": []
  },
  {
   "cell_type": "code",
   "execution_count": 40,
   "metadata": {},
   "outputs": [],
   "source": [
    "#!nvidia-smi"
   ]
  },
  {
   "cell_type": "code",
   "execution_count": null,
   "metadata": {},
   "outputs": [],
   "source": []
  },
  {
   "cell_type": "code",
   "execution_count": 382,
   "metadata": {},
   "outputs": [],
   "source": [
    "lr=0.0005"
   ]
  },
  {
   "cell_type": "code",
   "execution_count": null,
   "metadata": {},
   "outputs": [],
   "source": [
    "lr = 0.00005"
   ]
  },
  {
   "cell_type": "code",
   "execution_count": null,
   "metadata": {},
   "outputs": [],
   "source": []
  },
  {
   "cell_type": "code",
   "execution_count": null,
   "metadata": {},
   "outputs": [],
   "source": []
  },
  {
   "cell_type": "code",
   "execution_count": null,
   "metadata": {},
   "outputs": [],
   "source": []
  },
  {
   "cell_type": "code",
   "execution_count": null,
   "metadata": {},
   "outputs": [],
   "source": []
  },
  {
   "cell_type": "code",
   "execution_count": null,
   "metadata": {},
   "outputs": [],
   "source": []
  },
  {
   "cell_type": "code",
   "execution_count": null,
   "metadata": {},
   "outputs": [],
   "source": []
  }
 ],
 "metadata": {
  "kernelspec": {
   "display_name": "Python 2",
   "language": "python",
   "name": "python2"
  },
  "language_info": {
   "codemirror_mode": {
    "name": "ipython",
    "version": 2
   },
   "file_extension": ".py",
   "mimetype": "text/x-python",
   "name": "python",
   "nbconvert_exporter": "python",
   "pygments_lexer": "ipython2",
   "version": "2.7.14"
  },
  "toc": {
   "base_numbering": 1,
   "nav_menu": {},
   "number_sections": true,
   "sideBar": true,
   "skip_h1_title": false,
   "title_cell": "Table of Contents",
   "title_sidebar": "Contents",
   "toc_cell": false,
   "toc_position": {},
   "toc_section_display": true,
   "toc_window_display": false
  }
 },
 "nbformat": 4,
 "nbformat_minor": 2
}
