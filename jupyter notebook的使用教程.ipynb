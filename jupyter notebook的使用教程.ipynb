{
 "cells": [
  {
   "cell_type": "markdown",
   "metadata": {},
   "source": [
    "# 关于快捷键"
   ]
  },
  {
   "cell_type": "markdown",
   "metadata": {},
   "source": [
    "## 模式切换"
   ]
  },
  {
   "cell_type": "raw",
   "metadata": {},
   "source": [
    "当前cell侧边为蓝色时，表示此时为命令模式，按Enter切换为编辑模式\n",
    "当前cell侧边为绿色时，表示此时为编辑模式，按Esc切换为命令模式"
   ]
  },
  {
   "cell_type": "markdown",
   "metadata": {},
   "source": [
    "## 命令模式快捷键"
   ]
  },
  {
   "cell_type": "raw",
   "metadata": {},
   "source": [
    "H：显示快捷键帮助\n",
    "F：查找和替换\n",
    "P：打开命令面板\n",
    "Ctrl-Enter：运行当前cell\n",
    "Shift-Enter：运行当前cell并跳转到下一cell\n",
    "Alt-Enter：运行当前cell并在下方新建cell\n",
    "Y：把当前cell内容转换为代码形式\n",
    "M：把当前cell内容转换为markdown形式\n",
    "1~6：把当前cell内容设置为标题1~6格式\n",
    "Shift+上下键：按住Shift进行上下键操作可复选多个cell\n",
    "A：在上方新建cell\n",
    "B：在下方新建cell\n",
    "X/C/Shift-V/V：剪切/复制/上方粘贴/下方粘贴\n",
    "双击D：删除当前cell\n",
    "Z：撤销删除\n",
    "S：保存notebook\n",
    "L：为当前cell的代码添加行编号\n",
    "Shift-L：为所有cell的代码添加行编号\n",
    "Shift-M：合并所选cell或合并当前cell和下方的cell\n",
    "双击I：停止kernel\n",
    "双击0：重启kernel"
   ]
  },
  {
   "cell_type": "markdown",
   "metadata": {},
   "source": [
    "## 编辑模式快捷键"
   ]
  },
  {
   "cell_type": "raw",
   "metadata": {},
   "source": [
    "Tab：代码补全\n",
    "Ctrl-A：全选\n",
    "Ctrl-Z：撤销\n",
    "Ctrl-Home：将光标移至cell最前端\n",
    "Ctrl-End：将光标移至cell末端"
   ]
  },
  {
   "cell_type": "markdown",
   "metadata": {},
   "source": [
    "## Jupyter Notebook中Matplotlib绘图"
   ]
  },
  {
   "cell_type": "markdown",
   "metadata": {},
   "source": [
    "若要使用Matplotlib绘图，为确保图形能顺利输出，需在cell开头键入\n",
    "\n",
    "%matplotlib inline"
   ]
  },
  {
   "cell_type": "markdown",
   "metadata": {},
   "source": [
    "# 命令使用"
   ]
  },
  {
   "cell_type": "markdown",
   "metadata": {},
   "source": [
    "## 执行shell命令"
   ]
  },
  {
   "cell_type": "code",
   "execution_count": 1,
   "metadata": {},
   "outputs": [
    {
     "name": "stdout",
     "output_type": "stream",
     "text": [
      "a_file\t\t\t\t  python列表删除重复元素.ipynb\r\n",
      "file.txt\t\t\t  test.ipynb\r\n",
      "jupyter notebook的使用教程.ipynb  Untitled1.ipynb\r\n",
      "LSTM+CRF.ipynb\t\t\t  使用textrank进行关键词提取.ipynb\r\n",
      "makevocab以及数据统计.ipynb\t  将两个列表一起打乱.ipynb\r\n",
      "python下的文件操作.ipynb\t  整合某个log目录下的全部rouge结果.ipynb\r\n"
     ]
    }
   ],
   "source": [
    "!ls"
   ]
  },
  {
   "cell_type": "markdown",
   "metadata": {},
   "source": [
    "## 执行python程序"
   ]
  },
  {
   "cell_type": "code",
   "execution_count": 4,
   "metadata": {},
   "outputs": [],
   "source": [
    "with open('test.py', 'w') as f:\n",
    "    f.write(\"print(\\\"hello\\\")\")"
   ]
  },
  {
   "cell_type": "code",
   "execution_count": 5,
   "metadata": {},
   "outputs": [
    {
     "name": "stdout",
     "output_type": "stream",
     "text": [
      "hello\n"
     ]
    }
   ],
   "source": [
    "%run test.py"
   ]
  },
  {
   "cell_type": "markdown",
   "metadata": {},
   "source": [
    "## 程序运行时指定GPU"
   ]
  },
  {
   "cell_type": "code",
   "execution_count": 7,
   "metadata": {},
   "outputs": [],
   "source": [
    "import os\n",
    "os.environ[\"CUDA_VISIBLE_DEVICES\"] =  \"7\""
   ]
  },
  {
   "cell_type": "markdown",
   "metadata": {},
   "source": [
    "# jupyter安装目录插件"
   ]
  },
  {
   "cell_type": "raw",
   "metadata": {},
   "source": [
    "pip install jupyter_contrib_nbextensions\n",
    "jupyter contrib nbextension install --user --skip-running-check\n",
    "注意配置的时候要确保没有打开Jupyter Notebook"
   ]
  },
  {
   "cell_type": "markdown",
   "metadata": {},
   "source": [
    "# 利用端口转发实现远程登录jupyter notebook"
   ]
  },
  {
   "cell_type": "raw",
   "metadata": {},
   "source": [
    "先来介绍一下本地端口转发\n",
    "假定host1是本地主机，host2是远程主机。由于种种原因，这两台主机之间无法连通。但是还有另一台host3，\n",
    "可以同时连通前面两台主机。因此，很自然的想法就是通过host3，将host1连上host2。\n",
    "我们在host1上执行下面的命令：\n",
    "$ ssh -L 2121:host2:21 host3\n",
    "命令中的L参数一共接受3个值，分别是“本地端口：目标主机：目标主机端口“，他们之间用冒号分隔，这条命令\n",
    "的意思就是，制定ssh绑定本地端口2121， 然后指定host3将所有数据，转发到目标主机host2的21端口。\n",
    "这样一来，我们只要连接host1的2121端口，就等于连上了host2的21端口。"
   ]
  },
  {
   "cell_type": "raw",
   "metadata": {},
   "source": [
    "在MacBook上基于外网服务器59.108.48.37:9008连接内网服务器172.31.222.38的4925端口\n",
    "（该端口为jupyter notebook的监听端口）\n",
    "ssh -L 4935:172.31.222.38:4925 59.108.48.37 -p 9008"
   ]
  },
  {
   "cell_type": "code",
   "execution_count": null,
   "metadata": {},
   "outputs": [],
   "source": []
  }
 ],
 "metadata": {
  "kernelspec": {
   "display_name": "Python 2",
   "language": "python",
   "name": "python2"
  },
  "language_info": {
   "codemirror_mode": {
    "name": "ipython",
    "version": 2
   },
   "file_extension": ".py",
   "mimetype": "text/x-python",
   "name": "python",
   "nbconvert_exporter": "python",
   "pygments_lexer": "ipython2",
   "version": "2.7.14"
  },
  "toc": {
   "base_numbering": 1,
   "nav_menu": {},
   "number_sections": true,
   "sideBar": true,
   "skip_h1_title": false,
   "title_cell": "Table of Contents",
   "title_sidebar": "Contents",
   "toc_cell": false,
   "toc_position": {
    "height": "calc(100% - 180px)",
    "left": "10px",
    "top": "150px",
    "width": "320px"
   },
   "toc_section_display": true,
   "toc_window_display": true
  }
 },
 "nbformat": 4,
 "nbformat_minor": 2
}
