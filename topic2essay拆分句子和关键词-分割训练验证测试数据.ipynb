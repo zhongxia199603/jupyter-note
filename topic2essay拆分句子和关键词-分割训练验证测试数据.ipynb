{
 "cells": [
  {
   "cell_type": "code",
   "execution_count": 185,
   "metadata": {},
   "outputs": [],
   "source": [
    "import os\n",
    "import random\n",
    "import pandas as pd\n",
    "import numpy as np"
   ]
  },
  {
   "cell_type": "code",
   "execution_count": 186,
   "metadata": {},
   "outputs": [],
   "source": [
    "input_path = '/home/jinhanqi/pt_program/topic2essay_data/'"
   ]
  },
  {
   "cell_type": "code",
   "execution_count": 187,
   "metadata": {},
   "outputs": [],
   "source": [
    "def filter_articles(articles, keywords, len1, len2):\n",
    "    res = []\n",
    "    keys = []\n",
    "    for art, key in zip(articles,keywords):\n",
    "        art = art.strip(' ')\n",
    "        if len(art.split(' ')) >= len1 and len(art.split(' ')) <= len2:\n",
    "            res.append(art)\n",
    "            keys.append(key)\n",
    "    return res, keys\n",
    "def get_data(input_path, boolean=True):\n",
    "    with open(input_path, 'r') as f:\n",
    "         con = f.readlines()\n",
    "    print 'original files item: ',len(con)\n",
    "    random.shuffle(con)\n",
    "    print 'random data...'\n",
    "    articles = [s.split('</d>')[0].strip(' ') for s in con]\n",
    "    keywords = [s.split('</d>')[1].strip(' ') for s in con]\n",
    "    print 'article item: ',len(articles)\n",
    "    print 'keyword item: ',len(keywords)\n",
    "    if boolean:\n",
    "        articles, keywords = filter_articles(articles, keywords, 50, 100)\n",
    "    print 'after filter article item: ',len(articles)\n",
    "    print 'after filter keyword item: ',len(keywords)\n",
    "    print 'sample:'\n",
    "    print 'articles: ',articles[6]\n",
    "    print 'keywords: ',keywords[6]\n",
    "    return articles, keywords\n",
    "def get_des(List):\n",
    "    art_lens = [len(sent.strip(' ').split(' '))  for sent in List]\n",
    "    length_art = pd.DataFrame(art_lens, columns=['counts'])\n",
    "    print(length_art.describe())\n",
    "def _shuffle(a, b):\n",
    "    c = list(zip(a, b))\n",
    "    random.shuffle(c)\n",
    "    a[:], b[:] = zip(*c)\n",
    "    return a, b"
   ]
  },
  {
   "cell_type": "code",
   "execution_count": 188,
   "metadata": {},
   "outputs": [
    {
     "name": "stdout",
     "output_type": "stream",
     "text": [
      "original files item:  494944\n",
      "random data...\n",
      "article item:  494944\n",
      "keyword item:  494944\n",
      "after filter article item:  372159\n",
      "after filter keyword item:  372159\n",
      "sample:\n",
      "articles:  那时 今年 暑假 的 一天 中午 ， 我 妈妈 的 一位 同学 开 着 一辆 桑 塔拉 经过 丝绸厂 转盘 时 ， 与 迎面 开来 的 东风 车 相撞 。 “ 轰 ” 的 一声 ， 死亡 之 神 带走 了 妈妈 的 同学 。 就 在 这 一刹那 ， 阿姨 失去 了 深爱 自己 的 丈夫 ， 三岁 的 女儿 失去 了 关爱 自己 的 爸爸 。\n",
      "keywords:  失去 妈妈 关爱 阿姨 同学\n",
      "\n"
     ]
    }
   ],
   "source": [
    "articles, keywords = get_data(input_path+'composition.txt')"
   ]
  },
  {
   "cell_type": "code",
   "execution_count": 189,
   "metadata": {},
   "outputs": [
    {
     "name": "stdout",
     "output_type": "stream",
     "text": [
      "              counts\n",
      "count  372159.000000\n",
      "mean       70.840520\n",
      "std        14.357372\n",
      "min        50.000000\n",
      "25%        58.000000\n",
      "50%        69.000000\n",
      "75%        82.000000\n",
      "max       100.000000\n"
     ]
    }
   ],
   "source": [
    "get_des(articles)"
   ]
  },
  {
   "cell_type": "code",
   "execution_count": 191,
   "metadata": {},
   "outputs": [
    {
     "name": "stdout",
     "output_type": "stream",
     "text": [
      "         counts\n",
      "count  372159.0\n",
      "mean        5.0\n",
      "std         0.0\n",
      "min         5.0\n",
      "25%         5.0\n",
      "50%         5.0\n",
      "75%         5.0\n",
      "max         5.0\n"
     ]
    }
   ],
   "source": [
    "get_des(keywords)"
   ]
  },
  {
   "cell_type": "code",
   "execution_count": 192,
   "metadata": {},
   "outputs": [
    {
     "name": "stdout",
     "output_type": "stream",
     "text": [
      "我 的 母亲 也 像 墙 ， 像 鸟 妈妈 对 我 呵护 倍 至 ， 鼓励 有加 ， 尤其 让 我 感激 的 是 母亲 常常 对 失落 的 我 进行 引导 和 鼓励 ， 让 那 深刻 的 道理 在 我 的 心里 生根 ， 她 是 我 的 第一任 老师 。\n",
      "鼓励 进行 母亲 妈妈 引导\r\n",
      "\n"
     ]
    }
   ],
   "source": [
    "print articles[1001]\n",
    "print keywords[1001]"
   ]
  },
  {
   "cell_type": "markdown",
   "metadata": {},
   "source": [
    "### 写训练数据"
   ]
  },
  {
   "cell_type": "code",
   "execution_count": 200,
   "metadata": {},
   "outputs": [],
   "source": [
    "output_path = '/home/jinhanqi/pt_program/data_topic2essay/original_data/'"
   ]
  },
  {
   "cell_type": "code",
   "execution_count": 201,
   "metadata": {},
   "outputs": [],
   "source": [
    "if not os.path.exists(output_path):\n",
    "    os.makedirs(output_path)"
   ]
  },
  {
   "cell_type": "code",
   "execution_count": 202,
   "metadata": {},
   "outputs": [],
   "source": [
    "with open(output_path+'train.tgt',\"w\") as f:\n",
    "    for line in articles[0:350000]:\n",
    "        f.write(line+'\\n')\n",
    "with open(output_path+'train.src',\"w\") as f:\n",
    "    for line in keywords[0:350000]:\n",
    "        f.write(line)"
   ]
  },
  {
   "cell_type": "code",
   "execution_count": 203,
   "metadata": {},
   "outputs": [],
   "source": [
    "with open(output_path+'test.tgt',\"w\") as f:\n",
    "    for line in articles[350000:354992]:\n",
    "        f.write(line+'\\n')\n",
    "with open(output_path+'test.src',\"w\") as f:\n",
    "    for line in keywords[350000:354992]:\n",
    "        f.write(line)"
   ]
  },
  {
   "cell_type": "code",
   "execution_count": 204,
   "metadata": {},
   "outputs": [],
   "source": [
    "with open(output_path+'valid.tgt',\"w\") as f:\n",
    "    for line in articles[360000:360080]:\n",
    "        f.write(line+'\\n')\n",
    "with open(output_path+'valid.src',\"w\") as f:\n",
    "    for line in keywords[360000:360080]:\n",
    "        f.write(line)"
   ]
  },
  {
   "cell_type": "markdown",
   "metadata": {},
   "source": [
    "### 收集数据"
   ]
  },
  {
   "cell_type": "code",
   "execution_count": 60,
   "metadata": {},
   "outputs": [],
   "source": [
    "with open('/home/jinhanqi/pt_program/topic2essay_data/data/train.tgt', 'r') as f:\n",
    "    con = f.readlines()"
   ]
  },
  {
   "cell_type": "code",
   "execution_count": 61,
   "metadata": {},
   "outputs": [
    {
     "data": {
      "text/plain": [
       "490000"
      ]
     },
     "execution_count": 61,
     "metadata": {},
     "output_type": "execute_result"
    }
   ],
   "source": [
    "len(con)"
   ]
  },
  {
   "cell_type": "code",
   "execution_count": 64,
   "metadata": {},
   "outputs": [],
   "source": [
    "import random\n",
    "random.shuffle(con)"
   ]
  },
  {
   "cell_type": "code",
   "execution_count": 65,
   "metadata": {},
   "outputs": [],
   "source": [
    "with open('/home/jinhanqi/essay_sample.txt', 'w') as f:\n",
    "    for line in con[0:200]:\n",
    "        f.write(line+'\\n\\n')"
   ]
  },
  {
   "cell_type": "code",
   "execution_count": null,
   "metadata": {},
   "outputs": [],
   "source": []
  }
 ],
 "metadata": {
  "kernelspec": {
   "display_name": "Python 2",
   "language": "python",
   "name": "python2"
  },
  "language_info": {
   "codemirror_mode": {
    "name": "ipython",
    "version": 2
   },
   "file_extension": ".py",
   "mimetype": "text/x-python",
   "name": "python",
   "nbconvert_exporter": "python",
   "pygments_lexer": "ipython2",
   "version": "2.7.14"
  },
  "toc": {
   "base_numbering": 1,
   "nav_menu": {},
   "number_sections": true,
   "sideBar": true,
   "skip_h1_title": false,
   "title_cell": "Table of Contents",
   "title_sidebar": "Contents",
   "toc_cell": false,
   "toc_position": {},
   "toc_section_display": true,
   "toc_window_display": false
  }
 },
 "nbformat": 4,
 "nbformat_minor": 2
}
