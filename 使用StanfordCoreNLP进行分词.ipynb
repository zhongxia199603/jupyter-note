{
 "cells": [
  {
   "cell_type": "code",
   "execution_count": 1,
   "metadata": {},
   "outputs": [],
   "source": [
    "import subprocess\n",
    "import os"
   ]
  },
  {
   "cell_type": "code",
   "execution_count": 2,
   "metadata": {},
   "outputs": [],
   "source": [
    "sentence = 'i am jinhanqi.'"
   ]
  },
  {
   "cell_type": "code",
   "execution_count": 3,
   "metadata": {},
   "outputs": [
    {
     "name": "stdout",
     "output_type": "stream",
     "text": [
      "[u'i', u'am', u'jinhanqi', u'.']\n",
      "[(u'i', u'LS'), (u'am', u'VBP'), (u'jinhanqi', u'NN'), (u'.', u'.')]\n",
      "[(u'i', u'O'), (u'am', u'O'), (u'jinhanqi', u'O'), (u'.', u'O')]\n",
      "(ROOT\n",
      "  (S\n",
      "    (NP (LS i))\n",
      "    (VP (VBP am)\n",
      "      (NP (NN jinhanqi)))\n",
      "    (. .)))\n",
      "[(u'ROOT', 0, 3), (u'nsubj', 3, 1), (u'cop', 3, 2), (u'punct', 3, 4)]\n"
     ]
    }
   ],
   "source": [
    "# coding=utf-8\n",
    "from stanfordcorenlp import StanfordCoreNLP\n",
    "\n",
    "nlp = StanfordCoreNLP(r'/home/jinhanqi/program/stanford-corenlp-full-2016-10-31/')\n",
    "\n",
    "print nlp.word_tokenize(sentence)\n",
    "print nlp.pos_tag(sentence)\n",
    "print nlp.ner(sentence)\n",
    "print nlp.parse(sentence)\n",
    "print nlp.dependency_parse(sentence)"
   ]
  },
  {
   "cell_type": "code",
   "execution_count": 4,
   "metadata": {},
   "outputs": [],
   "source": [
    "s = nlp.word_tokenize(sentence)\n",
    "s = ' '.join(s)"
   ]
  },
  {
   "cell_type": "code",
   "execution_count": 5,
   "metadata": {},
   "outputs": [
    {
     "data": {
      "text/plain": [
       "u'i am jinhanqi .'"
      ]
     },
     "execution_count": 5,
     "metadata": {},
     "output_type": "execute_result"
    }
   ],
   "source": [
    "s"
   ]
  },
  {
   "cell_type": "markdown",
   "metadata": {},
   "source": [
    "### 也可以进行中文分词，介绍如下"
   ]
  },
  {
   "cell_type": "raw",
   "metadata": {},
   "source": [
    "Stanford CoreNLP的源代码是使用Java写的，提供了Server方式进行交互。stanfordcorenlp是一个对Stanford CoreNLP进行了封装的Python工具包，GitHub地址，使用非常方便。\n",
    "\n",
    "安装stanfordcorenlp包之前： \n",
    "1：下载安装JDK 1.8及以上版本。 \n",
    "2：下载Stanford CoreNLP文件，解压。 \n",
    "3：处理中文还需要下载中文的模型jar文件，然后放到stanford-corenlp-full-2016-10-31根目录下即可（注意一定要下载这个文件哦，否则它默认是按英文来处理的）。http://nlp.stanford.edu/software/stanford-chinese-corenlp-2016-10-31-models.jar\n",
    "\n",
    "本文所用版本为Stanford CoreNLP 3.7.0。"
   ]
  },
  {
   "cell_type": "raw",
   "metadata": {},
   "source": [
    "#简单使用，处理中文记得参数lang='zh'\n",
    "\n",
    "# coding=utf-8\n",
    "\n",
    "from stanfordcorenlp import StanfordCoreNLP\n",
    "\n",
    "nlp = StanfordCoreNLP(r'/home/gld/stanford-corenlp-full-2016-10-31/', lang='zh')\n",
    "\n",
    "sentence = '清华大学位于北京。'\n",
    "print nlp.word_tokenize(sentence)\n",
    "print nlp.pos_tag(sentence)\n",
    "print nlp.ner(sentence)\n",
    "print nlp.parse(sentence)\n",
    "print nlp.dependency_parse(sentence)"
   ]
  },
  {
   "cell_type": "code",
   "execution_count": null,
   "metadata": {},
   "outputs": [],
   "source": []
  }
 ],
 "metadata": {
  "kernelspec": {
   "display_name": "Python 2",
   "language": "python",
   "name": "python2"
  },
  "language_info": {
   "codemirror_mode": {
    "name": "ipython",
    "version": 2
   },
   "file_extension": ".py",
   "mimetype": "text/x-python",
   "name": "python",
   "nbconvert_exporter": "python",
   "pygments_lexer": "ipython2",
   "version": "2.7.14"
  },
  "toc": {
   "base_numbering": 1,
   "nav_menu": {},
   "number_sections": true,
   "sideBar": true,
   "skip_h1_title": false,
   "title_cell": "Table of Contents",
   "title_sidebar": "Contents",
   "toc_cell": false,
   "toc_position": {},
   "toc_section_display": true,
   "toc_window_display": false
  }
 },
 "nbformat": 4,
 "nbformat_minor": 2
}
