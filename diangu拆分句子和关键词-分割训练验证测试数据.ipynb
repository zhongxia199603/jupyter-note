{
 "cells": [
  {
   "cell_type": "code",
   "execution_count": 19,
   "metadata": {},
   "outputs": [],
   "source": [
    "import os\n",
    "import random\n",
    "import pandas as pd\n",
    "import numpy as np\n",
    "import re"
   ]
  },
  {
   "cell_type": "code",
   "execution_count": 20,
   "metadata": {},
   "outputs": [],
   "source": [
    "input_path = '/home/jinhanqi/program/essay_data/'"
   ]
  },
  {
   "cell_type": "code",
   "execution_count": 21,
   "metadata": {},
   "outputs": [],
   "source": [
    "def filter_articles(articles, keywords, len1, len2):\n",
    "    res = []\n",
    "    keys = []\n",
    "    for art, key in zip(articles,keywords):\n",
    "        art = art.strip(' ')\n",
    "        if len(art.split(' ')) >= len1 and len(art.split(' ')) <= len2:\n",
    "            res.append(art)\n",
    "            keys.append(key)\n",
    "    return res, keys\n",
    "def get_data(input_path, boolean=True):\n",
    "    with open(input_path, 'r') as f:\n",
    "         con = f.readlines()\n",
    "    print 'original files item: ',len(con)\n",
    "    random.shuffle(con)\n",
    "    print 'random data...'\n",
    "    articles = [s.split('|')[0].strip(' ') for s in con]\n",
    "    keywords = [s.split('|')[3].strip(' ') for s in con]\n",
    "    index = []\n",
    "    for i, key in enumerate(keywords):\n",
    "        if len(key.strip(' ').split(' ')) != 5:\n",
    "            index.append(i)\n",
    "            '''\n",
    "            print(len(key))\n",
    "            print(key)\n",
    "            print(articles[i])\n",
    "            print('\\n')\n",
    "            '''\n",
    "            \n",
    "    for i, idx in enumerate(index):\n",
    "        keywords.pop(idx-i)\n",
    "        articles.pop(idx-i)\n",
    "    print 'article item: ',len(articles)\n",
    "    print 'keyword item: ',len(keywords)\n",
    "    if boolean:\n",
    "        articles, keywords = filter_articles(articles, keywords, 25, 200)\n",
    "    print 'after filter article item: ',len(articles)\n",
    "    print 'after filter keyword item: ',len(keywords)\n",
    "    print 'sample:'\n",
    "    print 'articles: ',articles[6]\n",
    "    print 'keywords: ',keywords[6]\n",
    "    return articles, keywords\n",
    "def get_des(List):\n",
    "    art_lens = [len(sent.strip(' ').split(' '))  for sent in List]\n",
    "    length_art = pd.DataFrame(art_lens, columns=['counts'])\n",
    "    print(length_art.describe())\n",
    "def get_sentence_des(List):\n",
    "    art_lens = [len(re.split('。|！|？',sent.strip(' ')))  for sent in List]\n",
    "    length_art = pd.DataFrame(art_lens, columns=['counts'])\n",
    "    print(length_art.describe())\n",
    "def _shuffle(a, b):\n",
    "    c = list(zip(a, b))\n",
    "    random.shuffle(c)\n",
    "    a[:], b[:] = zip(*c)\n",
    "    return a, b"
   ]
  },
  {
   "cell_type": "code",
   "execution_count": 22,
   "metadata": {},
   "outputs": [
    {
     "name": "stdout",
     "output_type": "stream",
     "text": [
      "original files item:  46866\n",
      "random data...\n",
      "article item:  46825\n",
      "keyword item:  46825\n",
      "after filter article item:  40763\n",
      "after filter keyword item:  40763\n",
      "sample:\n",
      "articles:  所谓 动力 或是 推力 指 的 是 一种 来自 心中 的 恐惧 和 紧张 所 激发 的 强大 力量 。 人 是 虚荣 的 总是 不会 满足 于 现状 。 因为 害怕 别人 随时 会 超越 自己 ， 因为 恐惧 会 被 人 忽略 ， 才 会 拼命 地 努力 干 某件事 ， 这 便 有 了 动力 。 沙丁鱼 因为 不想 被 鲶鱼 吃掉 ， 才 有 了 求生 的 意志 ， 才 会 选择 躲避 而 得 已 存活 ， 而 一些 安于现状 的 沙丁鱼 因为 没有 鲶鱼 的 攻击 而 自欺欺人 ， 最终 还是 死路一条 。 爱迪生 因为 有 了 动力 ， 才能 成为 发明 大王 ， 摆脱 贫困 。 外国 的 一些 国家 因为 有 了 压力 ， 才 会 进行 革命 成为 发达国家 ， 经济 才能 得以 发展 。 而 我们 也 不该 利用 这些 压力 来 摆脱 懦弱 吗 ？\n",
      "keywords:  因为 鲶鱼 沙丁鱼 动力 恐惧\n",
      "\n"
     ]
    }
   ],
   "source": [
    "articles, keywords = get_data(input_path+'essay.txt')"
   ]
  },
  {
   "cell_type": "code",
   "execution_count": 23,
   "metadata": {},
   "outputs": [
    {
     "name": "stdout",
     "output_type": "stream",
     "text": [
      "             counts\n",
      "count  40763.000000\n",
      "mean      93.942521\n",
      "std       42.463343\n",
      "min       30.000000\n",
      "25%       59.000000\n",
      "50%       87.000000\n",
      "75%      123.000000\n",
      "max      200.000000\n"
     ]
    }
   ],
   "source": [
    "get_des(articles)"
   ]
  },
  {
   "cell_type": "code",
   "execution_count": 24,
   "metadata": {},
   "outputs": [
    {
     "name": "stdout",
     "output_type": "stream",
     "text": [
      "             counts\n",
      "count  40763.000000\n",
      "mean       4.960773\n",
      "std        2.450492\n",
      "min        1.000000\n",
      "25%        3.000000\n",
      "50%        5.000000\n",
      "75%        6.000000\n",
      "max       32.000000\n"
     ]
    }
   ],
   "source": [
    "get_sentence_des(articles)"
   ]
  },
  {
   "cell_type": "code",
   "execution_count": 13,
   "metadata": {},
   "outputs": [
    {
     "name": "stdout",
     "output_type": "stream",
     "text": [
      "        counts\n",
      "count  40763.0\n",
      "mean       5.0\n",
      "std        0.0\n",
      "min        5.0\n",
      "25%        5.0\n",
      "50%        5.0\n",
      "75%        5.0\n",
      "max        5.0\n"
     ]
    }
   ],
   "source": [
    "get_des(keywords)"
   ]
  },
  {
   "cell_type": "code",
   "execution_count": 14,
   "metadata": {},
   "outputs": [
    {
     "name": "stdout",
     "output_type": "stream",
     "text": [
      "站 在 “ 排云门 ” 外 ， 头顶 着 “ 星拱瑶 极 ” 的 牌楼 ， 昆明湖 的 美景 尽收眼底 。 星云 争澜 ， 风雨 协和 ， 当年 的 慈禧 老佛爷 是否 坐在 这儿 静听 荷花 开放 的 声音 ？ 英法联军 是否 在 这儿 张扬 着 所谓 的 胜利者 的 嘴脸 ？ 历史 哲人 是否 在 这儿 洞察 了 颐和园 疾痛 呻吟 ？\n",
      "这儿 星拱瑶 争澜 排云门 疾痛\n",
      "\n"
     ]
    }
   ],
   "source": [
    "print articles[1001]\n",
    "print keywords[1001]"
   ]
  },
  {
   "cell_type": "markdown",
   "metadata": {},
   "source": [
    "### 写训练数据"
   ]
  },
  {
   "cell_type": "code",
   "execution_count": 49,
   "metadata": {},
   "outputs": [],
   "source": [
    "output_path = '/home/jinhanqi/program/essay_data/original_data/'"
   ]
  },
  {
   "cell_type": "code",
   "execution_count": 50,
   "metadata": {},
   "outputs": [],
   "source": [
    "if not os.path.exists(output_path):\n",
    "    os.makedirs(output_path)"
   ]
  },
  {
   "cell_type": "code",
   "execution_count": 54,
   "metadata": {},
   "outputs": [],
   "source": [
    "with open(output_path+'train.tgt',\"w\") as f:\n",
    "    for line in articles[0:32000]:\n",
    "        f.write(line+'\\n')\n",
    "with open(output_path+'train.src',\"w\") as f:\n",
    "    for line in keywords[0:32000]:\n",
    "        if line[-1] == '\\n':\n",
    "            f.write(line)\n",
    "        else:\n",
    "            f.write(line+'\\n')"
   ]
  },
  {
   "cell_type": "code",
   "execution_count": 55,
   "metadata": {},
   "outputs": [],
   "source": [
    "with open(output_path+'test.tgt',\"w\") as f:\n",
    "    for line in articles[32000:35000]:\n",
    "        f.write(line+'\\n')\n",
    "with open(output_path+'test.src',\"w\") as f:\n",
    "    for line in keywords[32000:35000]:\n",
    "        if line[-1] == '\\n':\n",
    "            f.write(line)\n",
    "        else:\n",
    "            f.write(line+'\\n')"
   ]
  },
  {
   "cell_type": "code",
   "execution_count": 56,
   "metadata": {},
   "outputs": [],
   "source": [
    "with open(output_path+'valid.tgt',\"w\") as f:\n",
    "    for line in articles[32000:35000]:\n",
    "        f.write(line+'\\n')\n",
    "with open(output_path+'valid.src',\"w\") as f:\n",
    "    for line in keywords[32000:35000]:\n",
    "        if line[-1] == '\\n':\n",
    "            f.write(line)\n",
    "        else:\n",
    "            f.write(line+'\\n')"
   ]
  },
  {
   "cell_type": "markdown",
   "metadata": {},
   "source": [
    "### 收集数据"
   ]
  },
  {
   "cell_type": "code",
   "execution_count": 60,
   "metadata": {},
   "outputs": [],
   "source": [
    "with open('/home/jinhanqi/pt_program/topic2essay_data/data/train.tgt', 'r') as f:\n",
    "    con = f.readlines()"
   ]
  },
  {
   "cell_type": "code",
   "execution_count": 61,
   "metadata": {},
   "outputs": [
    {
     "data": {
      "text/plain": [
       "490000"
      ]
     },
     "execution_count": 61,
     "metadata": {},
     "output_type": "execute_result"
    }
   ],
   "source": [
    "len(con)"
   ]
  },
  {
   "cell_type": "code",
   "execution_count": 64,
   "metadata": {},
   "outputs": [],
   "source": [
    "import random\n",
    "random.shuffle(con)"
   ]
  },
  {
   "cell_type": "code",
   "execution_count": 65,
   "metadata": {},
   "outputs": [],
   "source": [
    "with open('/home/jinhanqi/essay_sample.txt', 'w') as f:\n",
    "    for line in con[0:200]:\n",
    "        f.write(line+'\\n\\n')"
   ]
  },
  {
   "cell_type": "code",
   "execution_count": null,
   "metadata": {},
   "outputs": [],
   "source": []
  }
 ],
 "metadata": {
  "kernelspec": {
   "display_name": "Python 2",
   "language": "python",
   "name": "python2"
  },
  "language_info": {
   "codemirror_mode": {
    "name": "ipython",
    "version": 2
   },
   "file_extension": ".py",
   "mimetype": "text/x-python",
   "name": "python",
   "nbconvert_exporter": "python",
   "pygments_lexer": "ipython2",
   "version": "2.7.14"
  },
  "toc": {
   "base_numbering": 1,
   "nav_menu": {},
   "number_sections": true,
   "sideBar": true,
   "skip_h1_title": false,
   "title_cell": "Table of Contents",
   "title_sidebar": "Contents",
   "toc_cell": false,
   "toc_position": {},
   "toc_section_display": true,
   "toc_window_display": false
  }
 },
 "nbformat": 4,
 "nbformat_minor": 2
}
