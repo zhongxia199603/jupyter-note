{
 "cells": [
  {
   "cell_type": "code",
   "execution_count": 5,
   "metadata": {},
   "outputs": [],
   "source": [
    "import collections\n",
    "import os\n",
    "import pandas as pd\n",
    "import numpy as np"
   ]
  },
  {
   "cell_type": "code",
   "execution_count": 6,
   "metadata": {},
   "outputs": [],
   "source": [
    "vocab_counter = collections.Counter()\n",
    "with open('/home/jinhanqi/tf_program/topic2essay_data/composition.txt', 'r') as f:\n",
    "    articles = f.read()"
   ]
  },
  {
   "cell_type": "markdown",
   "metadata": {},
   "source": [
    "### 数据的条目数"
   ]
  },
  {
   "cell_type": "code",
   "execution_count": 12,
   "metadata": {},
   "outputs": [
    {
     "data": {
      "text/plain": [
       "494945"
      ]
     },
     "execution_count": 12,
     "metadata": {},
     "output_type": "execute_result"
    }
   ],
   "source": [
    "len(articles.strip(' ').split('\\n'))"
   ]
  },
  {
   "cell_type": "markdown",
   "metadata": {},
   "source": [
    "### 对review的统计"
   ]
  },
  {
   "cell_type": "code",
   "execution_count": 13,
   "metadata": {},
   "outputs": [
    {
     "name": "stdout",
     "output_type": "stream",
     "text": [
      "              counts\n",
      "count  494945.000000\n",
      "mean       64.278754\n",
      "std        16.957244\n",
      "min         1.000000\n",
      "25%        50.000000\n",
      "50%        62.000000\n",
      "75%        77.000000\n",
      "max       100.000000\n"
     ]
    }
   ],
   "source": [
    "art_lens = [len(sent.strip(' ').split(' ')) if len(sent.strip(' ').split(' ')) <=5 else len(sent.strip(' ').split(' '))-6  for sent in articles.split('\\n')]\n",
    "length_art = pd.DataFrame(art_lens, columns=['counts'])\n",
    "print(length_art.describe())"
   ]
  },
  {
   "cell_type": "code",
   "execution_count": 14,
   "metadata": {},
   "outputs": [
    {
     "name": "stdout",
     "output_type": "stream",
     "text": [
      "40.0\n",
      "47.0\n",
      "85.0\n",
      "90.0\n"
     ]
    }
   ],
   "source": [
    "print(np.percentile(length_art.counts, 1))\n",
    "print(np.percentile(length_art.counts, 20))\n",
    "print(np.percentile(length_art.counts, 85))\n",
    "print(np.percentile(length_art.counts, 90))"
   ]
  },
  {
   "cell_type": "markdown",
   "metadata": {},
   "source": [
    "### 对词频的统计"
   ]
  },
  {
   "cell_type": "code",
   "execution_count": 15,
   "metadata": {},
   "outputs": [
    {
     "name": "stdout",
     "output_type": "stream",
     "text": [
      "0\n",
      "50000\n",
      "100000\n",
      "150000\n",
      "200000\n",
      "250000\n",
      "300000\n",
      "350000\n",
      "400000\n",
      "450000\n"
     ]
    }
   ],
   "source": [
    "i = 0\n",
    "for article in articles.split('\\n'):\n",
    "    if i % 50000 == 0:\n",
    "        print i\n",
    "    i += 1\n",
    "    tokens = article.split(' ')\n",
    "    tokens = [t.strip() for t in tokens] # strip\n",
    "    tokens = [t for t in tokens if t!=\"\"] # remove empty\n",
    "    vocab_counter.update(tokens)"
   ]
  },
  {
   "cell_type": "code",
   "execution_count": 23,
   "metadata": {},
   "outputs": [
    {
     "data": {
      "text/plain": [
       "238905"
      ]
     },
     "execution_count": 23,
     "metadata": {},
     "output_type": "execute_result"
    }
   ],
   "source": [
    "len(vocab_counter)"
   ]
  },
  {
   "cell_type": "code",
   "execution_count": 26,
   "metadata": {},
   "outputs": [
    {
     "name": "stdout",
     "output_type": "stream",
     "text": [
      "[('\\xef\\xbc\\x8c', 6079272)]\n"
     ]
    }
   ],
   "source": [
    "print vocab_counter.most_common(1)"
   ]
  },
  {
   "cell_type": "code",
   "execution_count": 27,
   "metadata": {},
   "outputs": [
    {
     "data": {
      "text/plain": [
       "1814732"
      ]
     },
     "execution_count": 27,
     "metadata": {},
     "output_type": "execute_result"
    }
   ],
   "source": [
    "vocab_counter['我']"
   ]
  },
  {
   "cell_type": "code",
   "execution_count": 31,
   "metadata": {},
   "outputs": [
    {
     "data": {
      "text/plain": [
       "2116"
      ]
     },
     "execution_count": 31,
     "metadata": {},
     "output_type": "execute_result"
    }
   ],
   "source": [
    "vocab_counter['金']"
   ]
  },
  {
   "cell_type": "code",
   "execution_count": 28,
   "metadata": {},
   "outputs": [],
   "source": [
    "_vocab_counter = vocab_counter.most_common(len(vocab_counter))"
   ]
  },
  {
   "cell_type": "code",
   "execution_count": 29,
   "metadata": {},
   "outputs": [],
   "source": [
    "vocab_count = [count for key, count in _vocab_counter]"
   ]
  },
  {
   "cell_type": "code",
   "execution_count": 30,
   "metadata": {},
   "outputs": [
    {
     "name": "stdout",
     "output_type": "stream",
     "text": [
      "             counts\n",
      "count  2.389050e+05\n",
      "mean   2.911962e+02\n",
      "std    1.703742e+04\n",
      "min    2.000000e+00\n",
      "25%    2.000000e+00\n",
      "50%    4.000000e+00\n",
      "75%    1.800000e+01\n",
      "max    6.079272e+06\n"
     ]
    }
   ],
   "source": [
    "length_vocab = pd.DataFrame(vocab_count, columns=['counts'])\n",
    "print(length_vocab.describe())"
   ]
  },
  {
   "cell_type": "code",
   "execution_count": 22,
   "metadata": {},
   "outputs": [
    {
     "name": "stdout",
     "output_type": "stream",
     "text": [
      "2.0\n",
      "6.0\n",
      "48.0\n",
      "100.0\n",
      "334.0\n",
      "2838.0\n"
     ]
    }
   ],
   "source": [
    "print(np.percentile(length_vocab.counts, 1))\n",
    "print(np.percentile(length_vocab.counts, 55))\n",
    "print(np.percentile(length_vocab.counts, 85))\n",
    "print(np.percentile(length_vocab.counts, 90))\n",
    "print(np.percentile(length_vocab.counts, 95))\n",
    "print(np.percentile(length_vocab.counts, 99))"
   ]
  },
  {
   "cell_type": "markdown",
   "metadata": {},
   "source": [
    "### 将词汇表写入文件"
   ]
  },
  {
   "cell_type": "code",
   "execution_count": 32,
   "metadata": {},
   "outputs": [
    {
     "name": "stdout",
     "output_type": "stream",
     "text": [
      "Writing vocab file...\n",
      "Finished writing vocab file\n"
     ]
    }
   ],
   "source": [
    "print \"Writing vocab file...\"\n",
    "with open(os.path.join(\"/home/jinhanqi/tf_program/topic2essay_data\", \"vocab\"), 'w') as writer:\n",
    "    #for word, count in vocab_counter.most_common(VOCAB_SIZE):\n",
    "    #    writer.write(word + ' ' + str(count) + '\\n')\n",
    "    for word, count in vocab_counter.most_common(len(vocab_counter)):\n",
    "        writer.write(word + ' ' + str(count) + '\\n')\n",
    "print \"Finished writing vocab file\""
   ]
  },
  {
   "cell_type": "code",
   "execution_count": null,
   "metadata": {},
   "outputs": [],
   "source": []
  }
 ],
 "metadata": {
  "kernelspec": {
   "display_name": "Python 2",
   "language": "python",
   "name": "python2"
  },
  "language_info": {
   "codemirror_mode": {
    "name": "ipython",
    "version": 2
   },
   "file_extension": ".py",
   "mimetype": "text/x-python",
   "name": "python",
   "nbconvert_exporter": "python",
   "pygments_lexer": "ipython2",
   "version": "2.7.14"
  },
  "toc": {
   "base_numbering": 1,
   "nav_menu": {},
   "number_sections": true,
   "sideBar": true,
   "skip_h1_title": false,
   "title_cell": "Table of Contents",
   "title_sidebar": "Contents",
   "toc_cell": false,
   "toc_position": {},
   "toc_section_display": true,
   "toc_window_display": false
  }
 },
 "nbformat": 4,
 "nbformat_minor": 2
}
