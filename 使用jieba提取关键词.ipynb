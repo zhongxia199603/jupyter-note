{
 "cells": [
  {
   "cell_type": "raw",
   "metadata": {},
   "source": [
    "import jieba.analyse\n",
    "\n",
    "path = '你的txt文件路径'\n",
    "file_in = open(path, 'r')\n",
    "content = file_in.read()\n",
    "\n",
    "try:\n",
    "    jieba.analyse.set_stop_words('你的停用词表路径')\n",
    "    tags = jieba.analyse.extract_tags(content, topK=100, withWeight=True)\n",
    "    for v, n in tags:\n",
    "        #权重是小数，为了凑整，乘了一万\n",
    "        print v + '\\t' + str(int(n * 10000))\n",
    "\n",
    "finally:\n",
    "    file_in.close()\n"
   ]
  },
  {
   "cell_type": "code",
   "execution_count": 1,
   "metadata": {},
   "outputs": [],
   "source": [
    "from jieba.analyse import *"
   ]
  },
  {
   "cell_type": "code",
   "execution_count": 2,
   "metadata": {},
   "outputs": [],
   "source": [
    "text = u'赞 流水 ， 思 历史 人物 的 丰功伟绩 ； 瞧 那 奔腾 的 黄河 孕出 的 代代 天骄 ： 秦始皇 统一 中国 之 壮举 ； 唐玄宗 贞观之治 之 大貌 ； 毛泽东 解放 中国 之 雄壮 ； 历史 的 伟人 呀 ， 是 黄河 骄傲 的 子女 ， 是 潺潺流水 不息 的 生命 动力 ；'"
   ]
  },
  {
   "cell_type": "markdown",
   "metadata": {},
   "source": [
    "## TF-IDF"
   ]
  },
  {
   "cell_type": "code",
   "execution_count": 3,
   "metadata": {},
   "outputs": [
    {
     "name": "stderr",
     "output_type": "stream",
     "text": [
      "Building prefix dict from the default dictionary ...\n",
      "Loading model from cache /tmp/jieba.cache\n",
      "Dumping model to file cache /tmp/jieba.cache\n",
      "Dump cache file failed.\n",
      "Traceback (most recent call last):\n",
      "  File \"/home/jinhanqi/.local/lib/python2.7/site-packages/jieba/__init__.py\", line 152, in initialize\n",
      "    _replace_file(fpath, cache_file)\n",
      "OSError: [Errno 1] Operation not permitted\n",
      "Loading model cost 1.784 seconds.\n",
      "Prefix dict has been built succesfully.\n"
     ]
    },
    {
     "name": "stdout",
     "output_type": "stream",
     "text": [
      "孕出 0.455432085221\n",
      "黄河 0.431994864796\n",
      "潺潺流水 0.423835853086\n",
      "大貌 0.412233362169\n",
      "天骄 0.393647275938\n",
      "代代 0.365684165034\n",
      "丰功伟绩 0.365684165034\n",
      "贞观之治 0.365684165034\n",
      "伟人 0.338149416888\n",
      "壮举 0.337579440959\n",
      "雄壮 0.320191625349\n",
      "历史 0.317465005045\n",
      "不息 0.313396320572\n",
      "唐玄宗 0.30326662683\n",
      "奔腾 0.300075193818\n",
      "秦始皇 0.28478519245\n",
      "骄傲 0.281632288796\n",
      "流水 0.272473830691\n",
      "子女 0.264625551127\n",
      "毛泽东 0.247518891625\n"
     ]
    }
   ],
   "source": [
    "for keyword, weight in extract_tags(text, withWeight=True):\n",
    "    print('%s %s' % (keyword, weight))"
   ]
  },
  {
   "cell_type": "markdown",
   "metadata": {},
   "source": [
    "## textrank"
   ]
  },
  {
   "cell_type": "code",
   "execution_count": 4,
   "metadata": {},
   "outputs": [
    {
     "name": "stdout",
     "output_type": "stream",
     "text": [
      "中国 1.0\n",
      "生命 0.757683278969\n",
      "历史 0.757683278969\n",
      "黄河 0.671321170778\n",
      "孕出 0.666809291647\n",
      "动力 0.380151767931\n",
      "人物 0.380151767931\n",
      "不息 0.380151767931\n",
      "伟人 0.380151767931\n",
      "奔腾 0.344244822941\n",
      "代代 0.341590783987\n",
      "解放 0.341071436292\n",
      "壮举 0.341071436292\n",
      "统一 0.341071436292\n"
     ]
    }
   ],
   "source": [
    "for keyword, weight in textrank(text, withWeight=True):\n",
    "    print('%s %s' % (keyword, weight))"
   ]
  },
  {
   "cell_type": "markdown",
   "metadata": {},
   "source": [
    "## 示例"
   ]
  },
  {
   "cell_type": "code",
   "execution_count": null,
   "metadata": {},
   "outputs": [],
   "source": []
  }
 ],
 "metadata": {
  "kernelspec": {
   "display_name": "Python 2",
   "language": "python",
   "name": "python2"
  },
  "language_info": {
   "codemirror_mode": {
    "name": "ipython",
    "version": 2
   },
   "file_extension": ".py",
   "mimetype": "text/x-python",
   "name": "python",
   "nbconvert_exporter": "python",
   "pygments_lexer": "ipython2",
   "version": "2.7.14"
  },
  "toc": {
   "base_numbering": 1,
   "nav_menu": {},
   "number_sections": true,
   "sideBar": true,
   "skip_h1_title": false,
   "title_cell": "Table of Contents",
   "title_sidebar": "Contents",
   "toc_cell": false,
   "toc_position": {},
   "toc_section_display": true,
   "toc_window_display": false
  }
 },
 "nbformat": 4,
 "nbformat_minor": 2
}
